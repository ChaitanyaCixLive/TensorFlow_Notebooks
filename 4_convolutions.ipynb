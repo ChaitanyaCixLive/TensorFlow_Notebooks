{
 "cells": [
  {
   "cell_type": "markdown",
   "metadata": {
    "colab_type": "text",
    "id": "4embtkV0pNxM"
   },
   "source": [
    "Machine Learning and Deep Learning with Tensorflow\n",
    "=============\n",
    "\n",
    "Convolutional Neural Networks\n",
    "------------\n",
    "\n",
    "Previously in `2_fullyconnected.ipynb` and `3_regularization.ipynb`, we trained fully connected networks to classify [notMNIST](http://yaroslavvb.blogspot.com/2011/09/notmnist-dataset.html) characters.\n",
    "\n",
    "The goal of this assignment is make the neural network convolutional."
   ]
  },
  {
   "cell_type": "code",
   "execution_count": 1,
   "metadata": {
    "cellView": "both",
    "colab": {
     "autoexec": {
      "startup": false,
      "wait_interval": 0
     }
    },
    "colab_type": "code",
    "collapsed": true,
    "id": "tm2CQN_Cpwj0"
   },
   "outputs": [],
   "source": [
    "# These are all the modules we'll be using later. Make sure you can import them\n",
    "# before proceeding further.\n",
    "from __future__ import print_function\n",
    "import numpy as np\n",
    "import tensorflow as tf\n",
    "from six.moves import cPickle as pickle\n",
    "from six.moves import range"
   ]
  },
  {
   "cell_type": "code",
   "execution_count": 2,
   "metadata": {
    "cellView": "both",
    "colab": {
     "autoexec": {
      "startup": false,
      "wait_interval": 0
     },
     "output_extras": [
      {
       "item_id": 1
      }
     ]
    },
    "colab_type": "code",
    "collapsed": false,
    "executionInfo": {
     "elapsed": 11948,
     "status": "ok",
     "timestamp": 1446658914837,
     "user": {
      "color": "",
      "displayName": "",
      "isAnonymous": false,
      "isMe": true,
      "permissionId": "",
      "photoUrl": "",
      "sessionId": "0",
      "userId": ""
     },
     "user_tz": 480
    },
    "id": "y3-cj1bpmuxc",
    "outputId": "016b1a51-0290-4b08-efdb-8c95ffc3cd01"
   },
   "outputs": [
    {
     "name": "stdout",
     "output_type": "stream",
     "text": [
      "Training set (200000, 28, 28) (200000,)\n",
      "Validation set (10000, 28, 28) (10000,)\n",
      "Test set (10000, 28, 28) (10000,)\n"
     ]
    }
   ],
   "source": [
    "pickle_file = 'notMNIST.pickle'\n",
    "\n",
    "with open(pickle_file, 'rb') as f:\n",
    "    save = pickle.load(f)\n",
    "    train_dataset = save['train_dataset']\n",
    "    train_labels = save['train_labels']\n",
    "    valid_dataset = save['valid_dataset']\n",
    "    valid_labels = save['valid_labels']\n",
    "    test_dataset = save['test_dataset']\n",
    "    test_labels = save['test_labels']\n",
    "    del save  # hint to help gc free up memory\n",
    "    print('Training set', train_dataset.shape, train_labels.shape)\n",
    "    print('Validation set', valid_dataset.shape, valid_labels.shape)\n",
    "    print('Test set', test_dataset.shape, test_labels.shape)"
   ]
  },
  {
   "cell_type": "markdown",
   "metadata": {
    "colab_type": "text",
    "id": "L7aHrm6nGDMB"
   },
   "source": [
    "Reformat into a TensorFlow-friendly shape:\n",
    "- convolutions need the image data formatted as a cube (width by height by #channels)\n",
    "- labels as float 1-hot encodings."
   ]
  },
  {
   "cell_type": "code",
   "execution_count": 3,
   "metadata": {
    "cellView": "both",
    "colab": {
     "autoexec": {
      "startup": false,
      "wait_interval": 0
     },
     "output_extras": [
      {
       "item_id": 1
      }
     ]
    },
    "colab_type": "code",
    "collapsed": false,
    "executionInfo": {
     "elapsed": 11952,
     "status": "ok",
     "timestamp": 1446658914857,
     "user": {
      "color": "",
      "displayName": "",
      "isAnonymous": false,
      "isMe": true,
      "permissionId": "",
      "photoUrl": "",
      "sessionId": "0",
      "userId": ""
     },
     "user_tz": 480
    },
    "id": "IRSyYiIIGIzS",
    "outputId": "650a208c-8359-4852-f4f5-8bf10e80ef6c"
   },
   "outputs": [
    {
     "name": "stdout",
     "output_type": "stream",
     "text": [
      "Training set (200000, 28, 28, 1) (200000, 10)\n",
      "Validation set (10000, 28, 28, 1) (10000, 10)\n",
      "Test set (10000, 28, 28, 1) (10000, 10)\n"
     ]
    }
   ],
   "source": [
    "image_size = 28\n",
    "num_labels = 10\n",
    "num_channels = 1 # grayscale\n",
    "\n",
    "import numpy as np\n",
    "\n",
    "def reformat(dataset, labels):\n",
    "    dataset = dataset.reshape(\n",
    "        (-1, image_size, image_size, num_channels)).astype(np.float32)\n",
    "    labels = (np.arange(num_labels) == labels[:,None]).astype(np.float32)\n",
    "    return dataset, labels\n",
    "\n",
    "train_dataset, train_labels = reformat(train_dataset, train_labels)\n",
    "valid_dataset, valid_labels = reformat(valid_dataset, valid_labels)\n",
    "test_dataset, test_labels = reformat(test_dataset, test_labels)\n",
    "print('Training set', train_dataset.shape, train_labels.shape)\n",
    "print('Validation set', valid_dataset.shape, valid_labels.shape)\n",
    "print('Test set', test_dataset.shape, test_labels.shape)"
   ]
  },
  {
   "cell_type": "code",
   "execution_count": 4,
   "metadata": {
    "cellView": "both",
    "colab": {
     "autoexec": {
      "startup": false,
      "wait_interval": 0
     }
    },
    "colab_type": "code",
    "collapsed": true,
    "id": "AgQDIREv02p1"
   },
   "outputs": [],
   "source": [
    "def accuracy(predictions, labels):\n",
    "    return (100.0 * np.sum(np.argmax(predictions, 1) == np.argmax(labels, 1))\n",
    "          / predictions.shape[0])\n",
    "    \n",
    "def weight_variable(shape):\n",
    "    return tf.Variable(tf.truncated_normal(shape, stddev=0.1))\n",
    "\n",
    "def bias_variable(shape):\n",
    "    return tf.Variable(tf.constant(0.1, shape=shape))\n",
    "\n",
    "def conv2d(x, W, padding_type):\n",
    "    return tf.nn.conv2d(x, W, strides=[1, 1, 1, 1], padding=padding_type)\n",
    "\n",
    "def max_pool_2x2(x, padding_type):\n",
    "    return tf.nn.max_pool(x, strides=[1, 2, 2, 1], ksize=[1, 2, 2, 1], padding=padding_type)"
   ]
  },
  {
   "cell_type": "markdown",
   "metadata": {
    "colab_type": "text",
    "id": "5rhgjmROXu2O"
   },
   "source": [
    "---\n",
    "Part 1\n",
    "---------\n",
    "\n",
    "Let's build a small network with two convolutional layers, followed by one fully connected layer. Convolutional networks are more expensive computationally, so we'll limit its depth and number of fully connected nodes. We will try to get the best performance you can using a convolutional net by looking at the classic [LeNet5](http://yann.lecun.com/exdb/lenet/) architecture, adding Dropout, and/or adding learning rate decay.\n",
    "\n",
    "---\n"
   ]
  },
  {
   "cell_type": "code",
   "execution_count": 6,
   "metadata": {
    "cellView": "both",
    "colab": {
     "autoexec": {
      "startup": false,
      "wait_interval": 0
     }
    },
    "colab_type": "code",
    "collapsed": false,
    "id": "IZYv70SvvOan"
   },
   "outputs": [],
   "source": [
    "batch_size = 16\n",
    "patch_size = 5\n",
    "depth = 32\n",
    "num_hidden = 64\n",
    "init_learning_rate = 1e-3\n",
    "beta = 1e-3\n",
    "decay_rate = 0.8\n",
    "\n",
    "graph = tf.Graph()\n",
    "\n",
    "with graph.as_default():\n",
    "    \n",
    "    #3rd layer size of of side\n",
    "    size3 = ((image_size - patch_size + 1) // 2 - patch_size + 1) // 2\n",
    "\n",
    "    # Input data.\n",
    "    tf_train_dataset = tf.placeholder(\n",
    "    tf.float32, shape=(batch_size, image_size, image_size, num_channels))\n",
    "    tf_train_labels = tf.placeholder(tf.float32, shape=(batch_size, num_labels))\n",
    "    tf_valid_dataset = tf.constant(valid_dataset)\n",
    "    tf_test_dataset = tf.constant(test_dataset)\n",
    "\n",
    "    # Variables.\n",
    "    layer1_weights = weight_variable([patch_size, patch_size, num_channels, depth])\n",
    "    layer1_biases = bias_variable([depth])\n",
    "    layer2_weights = weight_variable([patch_size, patch_size, depth, depth])\n",
    "    layer2_biases = bias_variable([depth])\n",
    "    layer3_weights = weight_variable([size3 * size3 * depth, num_hidden])\n",
    "    layer3_biases = bias_variable([num_hidden])\n",
    "    layer4_weights = weight_variable([num_hidden, num_labels])\n",
    "    layer4_biases = bias_variable([num_labels])\n",
    "    \n",
    "    global_step = tf.Variable(0)\n",
    "    keep_prob = tf.placeholder(tf.float32)\n",
    "\n",
    "    def model(data, drop_p):      \n",
    "        # Convolutional layer 1\n",
    "        h_conv1 = tf.nn.relu(conv2d(data, layer1_weights, 'VALID') + layer1_biases)\n",
    "        h_pool1 = max_pool_2x2(h_conv1, 'VALID')\n",
    "        # Convolutional layer 2\n",
    "        h_conv2 = tf.nn.relu(conv2d(h_pool1, layer2_weights, 'VALID') + layer2_biases)\n",
    "        h_pool2 = max_pool_2x2(h_conv2, 'VALID')        \n",
    "        #Densely connected layer with dropout\n",
    "        shape = h_pool2.get_shape().as_list()\n",
    "        reshape = tf.reshape(h_pool2, [shape[0], shape[1] * shape[2] * shape[3]])\n",
    "        hidden3 = tf.nn.relu(tf.matmul(reshape, layer3_weights) + layer3_biases)\n",
    "        drop_hidden3 = tf.nn.dropout(hidden3, drop_p)\n",
    "        return tf.matmul(drop_hidden3, layer4_weights) + layer4_biases\n",
    "\n",
    "    # Training computation.\n",
    "    logits = model(tf_train_dataset, keep_prob)\n",
    "    loss = tf.reduce_mean(tf.nn.softmax_cross_entropy_with_logits(logits, tf_train_labels))\n",
    "    \n",
    "    # L2 regularization on all weights except the dropout layer's weight\n",
    "    loss_reg = loss + beta*(\n",
    "        tf.nn.l2_loss(layer1_weights) + tf.nn.l2_loss(layer2_weights) + \n",
    "        tf.nn.l2_loss(layer4_weights))\n",
    "\n",
    "    # Learning Rate and Optimizer (using Adam Optimization)\n",
    "    learning_rate = tf.train.exponential_decay(init_learning_rate, global_step, \n",
    "                                               1000, decay_rate, staircase=True)\n",
    "    optimizer = tf.train.AdamOptimizer(learning_rate).minimize(loss_reg)\n",
    "\n",
    "    # Predictions for the training, validation, and test data.\n",
    "    train_prediction = tf.nn.softmax(logits)\n",
    "    valid_prediction = tf.nn.softmax(model(tf_valid_dataset, 1.0))\n",
    "    test_prediction = tf.nn.softmax(model(tf_test_dataset, 1.0))"
   ]
  },
  {
   "cell_type": "code",
   "execution_count": 7,
   "metadata": {
    "cellView": "both",
    "colab": {
     "autoexec": {
      "startup": false,
      "wait_interval": 0
     },
     "output_extras": [
      {
       "item_id": 37
      }
     ]
    },
    "colab_type": "code",
    "collapsed": false,
    "executionInfo": {
     "elapsed": 63292,
     "status": "ok",
     "timestamp": 1446658966251,
     "user": {
      "color": "",
      "displayName": "",
      "isAnonymous": false,
      "isMe": true,
      "permissionId": "",
      "photoUrl": "",
      "sessionId": "0",
      "userId": ""
     },
     "user_tz": 480
    },
    "id": "noKFb2UovVFR",
    "outputId": "28941338-2ef9-4088-8bd1-44295661e628",
    "scrolled": false
   },
   "outputs": [
    {
     "name": "stdout",
     "output_type": "stream",
     "text": [
      "Initialized\n",
      "Minibatch loss at step 0: 2.597455\n",
      "Minibatch accuracy: 25.0%\n",
      "Validation accuracy: 11.0%\n",
      "Test accuracy: 10.4%\n",
      "Minibatch loss at step 100: 1.998323\n",
      "Minibatch accuracy: 37.5%\n",
      "Validation accuracy: 59.9%\n",
      "Test accuracy: 65.7%\n",
      "Minibatch loss at step 200: 1.273005\n",
      "Minibatch accuracy: 56.2%\n",
      "Validation accuracy: 73.1%\n",
      "Test accuracy: 79.8%\n",
      "Minibatch loss at step 300: 0.747077\n",
      "Minibatch accuracy: 81.2%\n",
      "Validation accuracy: 76.3%\n",
      "Test accuracy: 83.3%\n",
      "Minibatch loss at step 400: 0.488405\n",
      "Minibatch accuracy: 87.5%\n",
      "Validation accuracy: 78.5%\n",
      "Test accuracy: 85.6%\n",
      "Minibatch loss at step 500: 0.984436\n",
      "Minibatch accuracy: 62.5%\n",
      "Validation accuracy: 80.3%\n",
      "Test accuracy: 87.3%\n",
      "Minibatch loss at step 1000: 0.629423\n",
      "Minibatch accuracy: 87.5%\n",
      "Validation accuracy: 83.1%\n",
      "Test accuracy: 89.8%\n",
      "Minibatch loss at step 2000: 0.194554\n",
      "Minibatch accuracy: 87.5%\n",
      "Validation accuracy: 84.5%\n",
      "Test accuracy: 90.7%\n",
      "Minibatch loss at step 3000: 0.536934\n",
      "Minibatch accuracy: 75.0%\n",
      "Validation accuracy: 85.8%\n",
      "Test accuracy: 92.4%\n",
      "Minibatch loss at step 4000: 0.538347\n",
      "Minibatch accuracy: 81.2%\n",
      "Validation accuracy: 86.5%\n",
      "Test accuracy: 92.8%\n",
      "Minibatch loss at step 5000: 0.971044\n",
      "Minibatch accuracy: 68.8%\n",
      "Validation accuracy: 86.8%\n",
      "Test accuracy: 93.2%\n",
      "Minibatch loss at step 6000: 0.100933\n",
      "Minibatch accuracy: 100.0%\n",
      "Validation accuracy: 87.0%\n",
      "Test accuracy: 93.7%\n",
      "Minibatch loss at step 7000: 0.734615\n",
      "Minibatch accuracy: 81.2%\n",
      "Validation accuracy: 87.3%\n",
      "Test accuracy: 93.7%\n",
      "Minibatch loss at step 8000: 0.424649\n",
      "Minibatch accuracy: 81.2%\n",
      "Validation accuracy: 87.5%\n",
      "Test accuracy: 93.8%\n",
      "Minibatch loss at step 9000: 0.473133\n",
      "Minibatch accuracy: 87.5%\n",
      "Validation accuracy: 87.9%\n",
      "Test accuracy: 94.0%\n",
      "Minibatch loss at step 10000: 0.172510\n",
      "Minibatch accuracy: 93.8%\n",
      "Validation accuracy: 88.2%\n",
      "Test accuracy: 94.1%\n",
      "Minibatch loss at step 11000: 0.257862\n",
      "Minibatch accuracy: 93.8%\n",
      "Validation accuracy: 87.7%\n",
      "Test accuracy: 94.2%\n",
      "Minibatch loss at step 12000: 0.511656\n",
      "Minibatch accuracy: 87.5%\n",
      "Validation accuracy: 88.0%\n",
      "Test accuracy: 94.0%\n",
      "Minibatch loss at step 13000: 0.288052\n",
      "Minibatch accuracy: 87.5%\n",
      "Validation accuracy: 88.0%\n",
      "Test accuracy: 94.0%\n",
      "Minibatch loss at step 14000: 0.112010\n",
      "Minibatch accuracy: 93.8%\n",
      "Validation accuracy: 88.3%\n",
      "Test accuracy: 94.5%\n",
      "Minibatch loss at step 15000: 0.460003\n",
      "Minibatch accuracy: 87.5%\n",
      "Validation accuracy: 87.7%\n",
      "Test accuracy: 93.6%\n",
      "Minibatch loss at step 16000: 1.666085\n",
      "Minibatch accuracy: 75.0%\n",
      "Validation accuracy: 88.5%\n",
      "Test accuracy: 94.4%\n",
      "Minibatch loss at step 17000: 0.107032\n",
      "Minibatch accuracy: 100.0%\n",
      "Validation accuracy: 88.3%\n",
      "Test accuracy: 94.2%\n",
      "Minibatch loss at step 18000: 0.534160\n",
      "Minibatch accuracy: 81.2%\n",
      "Validation accuracy: 88.4%\n",
      "Test accuracy: 94.4%\n",
      "Minibatch loss at step 19000: 0.534205\n",
      "Minibatch accuracy: 75.0%\n",
      "Validation accuracy: 88.6%\n",
      "Test accuracy: 94.3%\n",
      "Minibatch loss at step 20000: 0.316149\n",
      "Minibatch accuracy: 87.5%\n",
      "Validation accuracy: 88.9%\n",
      "Test accuracy: 94.7%\n",
      "Minibatch loss at step 21000: 0.130646\n",
      "Minibatch accuracy: 93.8%\n",
      "Validation accuracy: 88.8%\n",
      "Test accuracy: 94.5%\n",
      "Minibatch loss at step 22000: 0.257342\n",
      "Minibatch accuracy: 93.8%\n",
      "Validation accuracy: 88.8%\n",
      "Test accuracy: 94.7%\n",
      "Minibatch loss at step 23000: 0.648426\n",
      "Minibatch accuracy: 75.0%\n",
      "Validation accuracy: 88.8%\n",
      "Test accuracy: 94.9%\n",
      "Minibatch loss at step 24000: 0.250288\n",
      "Minibatch accuracy: 87.5%\n",
      "Validation accuracy: 88.6%\n",
      "Test accuracy: 94.6%\n",
      "Minibatch loss at step 25000: 0.563583\n",
      "Minibatch accuracy: 81.2%\n",
      "Validation accuracy: 88.5%\n",
      "Test accuracy: 94.3%\n",
      "Minibatch loss at step 26000: 0.418836\n",
      "Minibatch accuracy: 93.8%\n",
      "Validation accuracy: 88.5%\n",
      "Test accuracy: 94.8%\n",
      "Minibatch loss at step 27000: 0.138397\n",
      "Minibatch accuracy: 93.8%\n",
      "Validation accuracy: 88.6%\n",
      "Test accuracy: 94.5%\n",
      "Minibatch loss at step 28000: 0.501648\n",
      "Minibatch accuracy: 81.2%\n",
      "Validation accuracy: 88.5%\n",
      "Test accuracy: 94.6%\n",
      "Minibatch loss at step 29000: 0.244931\n",
      "Minibatch accuracy: 87.5%\n",
      "Validation accuracy: 88.9%\n",
      "Test accuracy: 94.8%\n",
      "Minibatch loss at step 30000: 0.408959\n",
      "Minibatch accuracy: 87.5%\n",
      "Validation accuracy: 88.9%\n",
      "Test accuracy: 94.9%\n",
      "Minibatch loss at step 31000: 0.978761\n",
      "Minibatch accuracy: 56.2%\n",
      "Validation accuracy: 89.0%\n",
      "Test accuracy: 95.0%\n",
      "Minibatch loss at step 32000: 0.221065\n",
      "Minibatch accuracy: 87.5%\n",
      "Validation accuracy: 89.0%\n",
      "Test accuracy: 94.9%\n",
      "Minibatch loss at step 33000: 0.414195\n",
      "Minibatch accuracy: 87.5%\n",
      "Validation accuracy: 88.9%\n",
      "Test accuracy: 95.0%\n",
      "Minibatch loss at step 34000: 0.566457\n",
      "Minibatch accuracy: 87.5%\n",
      "Validation accuracy: 89.0%\n",
      "Test accuracy: 95.0%\n",
      "Minibatch loss at step 35000: 0.717205\n",
      "Minibatch accuracy: 81.2%\n",
      "Validation accuracy: 88.9%\n",
      "Test accuracy: 94.8%\n",
      "Minibatch loss at step 36000: 0.158948\n",
      "Minibatch accuracy: 93.8%\n",
      "Validation accuracy: 89.0%\n",
      "Test accuracy: 94.8%\n",
      "Minibatch loss at step 37000: 0.264215\n",
      "Minibatch accuracy: 87.5%\n",
      "Validation accuracy: 89.0%\n",
      "Test accuracy: 95.0%\n",
      "Minibatch loss at step 38000: 0.924588\n",
      "Minibatch accuracy: 68.8%\n",
      "Validation accuracy: 89.0%\n",
      "Test accuracy: 94.8%\n",
      "Minibatch loss at step 39000: 0.134959\n",
      "Minibatch accuracy: 100.0%\n",
      "Validation accuracy: 89.0%\n",
      "Test accuracy: 94.9%\n",
      "Minibatch loss at step 40000: 0.515306\n",
      "Minibatch accuracy: 81.2%\n",
      "Validation accuracy: 88.7%\n",
      "Test accuracy: 94.7%\n"
     ]
    }
   ],
   "source": [
    "num_steps = 40001\n",
    "prob = 0.5\n",
    "\n",
    "with tf.Session(graph=graph) as session:\n",
    "    tf.initialize_all_variables().run()\n",
    "    print('Initialized')\n",
    "    for step in range(num_steps):\n",
    "        offset = (step * batch_size) % (train_labels.shape[0] - batch_size)\n",
    "        batch_data = train_dataset[offset:(offset + batch_size), :, :, :]\n",
    "        batch_labels = train_labels[offset:(offset + batch_size), :]\n",
    "        feed_dict = {tf_train_dataset : batch_data, tf_train_labels : batch_labels, keep_prob : prob}\n",
    "        _, l, predictions = session.run(\n",
    "            [optimizer, loss, train_prediction], feed_dict=feed_dict)\n",
    "        if (step in [100, 200, 300, 400, 500] or step % 1000 == 0):\n",
    "            print('Minibatch loss at step %d: %f' % (step, l))\n",
    "            print('Minibatch accuracy: %.1f%%' % accuracy(predictions, batch_labels))\n",
    "            print('Validation accuracy: %.1f%%' % accuracy(valid_prediction.eval(), valid_labels))\n",
    "            print('Test accuracy: %.1f%%' % accuracy(test_prediction.eval(), test_labels))"
   ]
  },
  {
   "cell_type": "markdown",
   "metadata": {
    "colab_type": "text",
    "id": "KedKkn4EutIK"
   },
   "source": [
    "---\n",
    "TODO Part 2\n",
    "---------\n",
    "\n",
    "Our convolutional neural net topped at 95%. We will try a ResNet from the [\"Deep Residual Learning for Image Recognition\"](http://arxiv.org/abs/1512.03385) paper.\n",
    "\n",
    "---"
   ]
  },
  {
   "cell_type": "markdown",
   "metadata": {},
   "source": []
  }
 ],
 "metadata": {
  "colab": {
   "default_view": {},
   "name": "4_convolutions.ipynb",
   "provenance": [],
   "version": "0.3.2",
   "views": {}
  },
  "kernelspec": {
   "display_name": "Python 2",
   "language": "python",
   "name": "python2"
  },
  "language_info": {
   "codemirror_mode": {
    "name": "ipython",
    "version": 2
   },
   "file_extension": ".py",
   "mimetype": "text/x-python",
   "name": "python",
   "nbconvert_exporter": "python",
   "pygments_lexer": "ipython2",
   "version": "2.7.11"
  }
 },
 "nbformat": 4,
 "nbformat_minor": 0
}
