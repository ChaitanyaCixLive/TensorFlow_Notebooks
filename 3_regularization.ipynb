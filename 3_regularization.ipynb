{
 "cells": [
  {
   "cell_type": "markdown",
   "metadata": {
    "colab_type": "text",
    "id": "kR-4eNdK6lYS"
   },
   "source": [
    "Machine Learning and Deep Learning with Tensorflow\n",
    "=============\n",
    "\n",
    "Regularization, dropout, and more layers\n",
    "------------\n",
    "\n",
    "Previously in `2_fullyconnected.ipynb`, you trained a logistic regression and a neural network model.\n",
    "The goal of this assignment is to explore regularization techniques."
   ]
  },
  {
   "cell_type": "code",
   "execution_count": 1,
   "metadata": {
    "cellView": "both",
    "colab": {
     "autoexec": {
      "startup": false,
      "wait_interval": 0
     }
    },
    "colab_type": "code",
    "collapsed": true,
    "id": "JLpLa8Jt7Vu4"
   },
   "outputs": [],
   "source": [
    "# These are all the modules we'll be using later\n",
    "# before proceeding further.\n",
    "from __future__ import print_function\n",
    "import numpy as np\n",
    "import tensorflow as tf\n",
    "from six.moves import cPickle as pickle"
   ]
  },
  {
   "cell_type": "markdown",
   "metadata": {
    "colab_type": "text",
    "id": "1HrCK6e17WzV"
   },
   "source": [
    "First reload the data we generated in _notmist.ipynb_."
   ]
  },
  {
   "cell_type": "code",
   "execution_count": 2,
   "metadata": {
    "cellView": "both",
    "colab": {
     "autoexec": {
      "startup": false,
      "wait_interval": 0
     },
     "output_extras": [
      {
       "item_id": 1
      }
     ]
    },
    "colab_type": "code",
    "collapsed": false,
    "executionInfo": {
     "elapsed": 11777,
     "status": "ok",
     "timestamp": 1449849322348,
     "user": {
      "color": "",
      "displayName": "",
      "isAnonymous": false,
      "isMe": true,
      "permissionId": "",
      "photoUrl": "",
      "sessionId": "0",
      "userId": ""
     },
     "user_tz": 480
    },
    "id": "y3-cj1bpmuxc",
    "outputId": "e03576f1-ebbe-4838-c388-f1777bcc9873"
   },
   "outputs": [
    {
     "name": "stdout",
     "output_type": "stream",
     "text": [
      "Training set (200000, 28, 28) (200000,)\n",
      "Validation set (10000, 28, 28) (10000,)\n",
      "Test set (10000, 28, 28) (10000,)\n"
     ]
    }
   ],
   "source": [
    "pickle_file = 'notMNIST.pickle'\n",
    "\n",
    "with open(pickle_file, 'rb') as f:\n",
    "    save = pickle.load(f)\n",
    "    train_dataset = save['train_dataset']\n",
    "    train_labels = save['train_labels']\n",
    "    valid_dataset = save['valid_dataset']\n",
    "    valid_labels = save['valid_labels']\n",
    "    test_dataset = save['test_dataset']\n",
    "    test_labels = save['test_labels']\n",
    "    del save  # hint to help gc free up memory\n",
    "    print('Training set', train_dataset.shape, train_labels.shape)\n",
    "    print('Validation set', valid_dataset.shape, valid_labels.shape)\n",
    "    print('Test set', test_dataset.shape, test_labels.shape)"
   ]
  },
  {
   "cell_type": "markdown",
   "metadata": {
    "colab_type": "text",
    "id": "L7aHrm6nGDMB"
   },
   "source": [
    "Reformat into a shape that's more adapted to the models we're going to train:\n",
    "- data as a flat matrix,\n",
    "- labels as float 1-hot encodings."
   ]
  },
  {
   "cell_type": "code",
   "execution_count": 3,
   "metadata": {
    "cellView": "both",
    "colab": {
     "autoexec": {
      "startup": false,
      "wait_interval": 0
     },
     "output_extras": [
      {
       "item_id": 1
      }
     ]
    },
    "colab_type": "code",
    "collapsed": false,
    "executionInfo": {
     "elapsed": 11728,
     "status": "ok",
     "timestamp": 1449849322356,
     "user": {
      "color": "",
      "displayName": "",
      "isAnonymous": false,
      "isMe": true,
      "permissionId": "",
      "photoUrl": "",
      "sessionId": "0",
      "userId": ""
     },
     "user_tz": 480
    },
    "id": "IRSyYiIIGIzS",
    "outputId": "3f8996ee-3574-4f44-c953-5c8a04636582"
   },
   "outputs": [
    {
     "name": "stdout",
     "output_type": "stream",
     "text": [
      "Training set (200000, 784) (200000, 10)\n",
      "Validation set (10000, 784) (10000, 10)\n",
      "Test set (10000, 784) (10000, 10)\n"
     ]
    }
   ],
   "source": [
    "image_size = 28\n",
    "num_labels = 10\n",
    "\n",
    "def reformat(dataset, labels):\n",
    "    dataset = dataset.reshape((-1, image_size * image_size)).astype(np.float32)\n",
    "    # Map 2 to [0.0, 1.0, 0.0 ...], 3 to [0.0, 0.0, 1.0 ...]\n",
    "    labels = (np.arange(num_labels) == labels[:,None]).astype(np.float32)\n",
    "    return dataset, labels\n",
    "train_dataset, train_labels = reformat(train_dataset, train_labels)\n",
    "valid_dataset, valid_labels = reformat(valid_dataset, valid_labels)\n",
    "test_dataset, test_labels = reformat(test_dataset, test_labels)\n",
    "print('Training set', train_dataset.shape, train_labels.shape)\n",
    "print('Validation set', valid_dataset.shape, valid_labels.shape)\n",
    "print('Test set', test_dataset.shape, test_labels.shape)"
   ]
  },
  {
   "cell_type": "code",
   "execution_count": 4,
   "metadata": {
    "cellView": "both",
    "colab": {
     "autoexec": {
      "startup": false,
      "wait_interval": 0
     }
    },
    "colab_type": "code",
    "collapsed": true,
    "id": "RajPLaL_ZW6w"
   },
   "outputs": [],
   "source": [
    "def accuracy(predictions, labels):\n",
    "    return (100.0 * np.sum(np.argmax(predictions, 1) == np.argmax(labels, 1))\n",
    "          / predictions.shape[0])\n",
    "\n",
    "def weight_variable(shape, stddev, name):\n",
    "    initial = tf.truncated_normal(stddev=stddev, shape=shape)\n",
    "    return tf.Variable(initial, name = name)\n",
    "\n",
    "def bias_variable(shape, bias_init, name):\n",
    "    initial = tf.constant(bias_init, shape=shape)\n",
    "    return tf.Variable(initial, name = name)"
   ]
  },
  {
   "cell_type": "markdown",
   "metadata": {},
   "source": [
    "---\n",
    "Part 1\n",
    "---------\n",
    "\n",
    "Let's introduce and tune L2 regularization for both logistic and neural network models. Remember that L2 amounts to adding a penalty on the norm of the weights to the loss. In TensorFlow, you can compute the L2 loss for a tensor t using nn.l2_loss(t). The right amount of regularization should improve your validation / test accuracy. We will introduce Dropout on the hidden layer of the neural network. Dropout should only be introduced during training, not evaluation, otherwise your evaluation results would be stochastic as well. TensorFlow provides `nn.dropout()` for that, but you have to make sure it's only inserted during training.\n",
    "\n",
    "---"
   ]
  },
  {
   "cell_type": "code",
   "execution_count": 16,
   "metadata": {
    "collapsed": false
   },
   "outputs": [],
   "source": [
    "# Some constants used throughout the model\n",
    "batch_size = 128\n",
    "hidden_nodes = 1024\n",
    "bias_init = 0.1\n",
    "norm_init = 0.1\n",
    "learning_rate = 0.3\n",
    "beta = 0.001\n",
    "\n",
    "graph = tf.Graph()\n",
    "with graph.as_default():\n",
    "\n",
    "    # Input data. For the training data, we use a placeholder that will be fed\n",
    "    # at run time with a training minibatch\n",
    "    tf_train_dataset = tf.placeholder(tf.float32,\n",
    "                                      shape=(batch_size, image_size * image_size))\n",
    "    tf_train_labels = tf.placeholder(tf.float32, shape=(batch_size, num_labels))\n",
    "    tf_valid_dataset = tf.constant(valid_dataset)\n",
    "    tf_test_dataset = tf.constant(test_dataset)\n",
    "\n",
    "    # Variables initialization\n",
    "    weights_logit = weight_variable([image_size * image_size, hidden_nodes], norm_init, name = \"weights_logit\")\n",
    "    weights_linear = weight_variable([hidden_nodes, num_labels], norm_init, name = \"weights_linear\")\n",
    "    biases_logit = bias_variable([hidden_nodes], bias_init, name = \"biases_logit\")\n",
    "    biases_linear = bias_variable([num_labels], bias_init, name = \"biases_linear\")\n",
    "\n",
    "    # Training computation\n",
    "    logits = tf.matmul(tf_train_dataset, weights_logit) + biases_logit\n",
    "    hidden_outs = tf.nn.relu(logits)\n",
    "    \n",
    "    # Adding dropout to hiden layer\n",
    "    keep_prob = tf.placeholder(tf.float32)\n",
    "    hidden_drop = tf.nn.dropout(hidden_outs, keep_prob)\n",
    "    \n",
    "    linear = tf.matmul(hidden_drop, weights_linear) + biases_linear\n",
    "    loss = tf.reduce_mean(\n",
    "        tf.nn.softmax_cross_entropy_with_logits(linear, tf_train_labels))\n",
    "    \n",
    "    # L2 regularization\n",
    "    loss_reg = loss + beta*(tf.nn.l2_loss(weights_logit) + tf.nn.l2_loss(weights_linear))\n",
    "\n",
    "    # Optimizer.\n",
    "    optimizer = tf.train.GradientDescentOptimizer(learning_rate).minimize(loss_reg)\n",
    "\n",
    "    # Predictions for the training, validation, and test data\n",
    "    train_prediction = tf.nn.softmax(linear)\n",
    "    valid_prediction = tf.nn.softmax(\n",
    "        tf.matmul(\n",
    "            tf.nn.relu(tf.matmul(tf_valid_dataset, weights_logit) + biases_logit), weights_linear) + biases_linear) \n",
    "    test_prediction = tf.nn.softmax(\n",
    "        tf.matmul(\n",
    "            tf.nn.relu(tf.matmul(tf_test_dataset, weights_logit) + biases_logit), weights_linear) + biases_linear)"
   ]
  },
  {
   "cell_type": "code",
   "execution_count": 17,
   "metadata": {
    "collapsed": false
   },
   "outputs": [
    {
     "name": "stdout",
     "output_type": "stream",
     "text": [
      "Initialized\n",
      "Minibatch loss at step 0: 6.659443\n",
      "Minibatch accuracy: 3.1%\n",
      "Validation accuracy: 26.6%\n",
      "Test accuracy: 28.4%\n",
      "Minibatch loss at step 500: 0.529406\n",
      "Minibatch accuracy: 83.6%\n",
      "Validation accuracy: 84.6%\n",
      "Test accuracy: 91.4%\n",
      "Minibatch loss at step 1000: 0.615670\n",
      "Minibatch accuracy: 85.2%\n",
      "Validation accuracy: 85.4%\n",
      "Test accuracy: 92.2%\n",
      "Minibatch loss at step 1500: 0.337439\n",
      "Minibatch accuracy: 89.8%\n",
      "Validation accuracy: 86.2%\n",
      "Test accuracy: 93.0%\n",
      "Minibatch loss at step 2000: 0.362673\n",
      "Minibatch accuracy: 93.0%\n",
      "Validation accuracy: 86.7%\n",
      "Test accuracy: 93.1%\n",
      "Minibatch loss at step 2500: 0.440786\n",
      "Minibatch accuracy: 85.2%\n",
      "Validation accuracy: 86.9%\n",
      "Test accuracy: 93.5%\n",
      "Minibatch loss at step 3000: 0.472700\n",
      "Minibatch accuracy: 86.7%\n",
      "Validation accuracy: 87.0%\n",
      "Test accuracy: 93.3%\n"
     ]
    }
   ],
   "source": [
    "num_steps = 3001\n",
    "step = 0\n",
    "prob = 0.5\n",
    "\n",
    "with tf.Session(graph=graph) as session:\n",
    "    tf.initialize_all_variables().run()\n",
    "    print(\"Initialized\")\n",
    "    for step in range(num_steps):\n",
    "        # Pick an offset within the training data, which has been randomized.\n",
    "        # Note: we could use better randomization across epochs.\n",
    "        offset = (step * batch_size) % (train_labels.shape[0] - batch_size)\n",
    "        # Generate a minibatch.\n",
    "        batch_data = train_dataset[offset:(offset + batch_size), :]\n",
    "        batch_labels = train_labels[offset:(offset + batch_size), :]\n",
    "        # Prepare a dictionary telling the session where to feed the minibatch.\n",
    "        # The key of the dictionary is the placeholder node of the graph to be fed,\n",
    "        # and the value is the numpy array to feed to it.\n",
    "        feed_dict = {tf_train_dataset : batch_data, tf_train_labels : batch_labels, keep_prob : prob}\n",
    "        _, l, predictions = session.run([optimizer, loss, train_prediction], feed_dict=feed_dict)\n",
    "        if (step % 500 == 0):\n",
    "            print(\"Minibatch loss at step %d: %f\" % (step, l))\n",
    "            print(\"Minibatch accuracy: %.1f%%\" % accuracy(predictions, batch_labels))\n",
    "            print(\"Validation accuracy: %.1f%%\" % accuracy(\n",
    "                valid_prediction.eval(), valid_labels))\n",
    "            print(\"Test accuracy: %.1f%%\" % accuracy(test_prediction.eval(), test_labels))"
   ]
  },
  {
   "cell_type": "markdown",
   "metadata": {},
   "source": [
    "So, my accuracy on the test set hovered around 93% using L2 regularization and drop-out on the hiden layer. I decreased the learning rate from 0.5 to 0.1 but that only marginally improved my results. It is now time to add layers, exponential decay of the learning rate and better weight initialization."
   ]
  },
  {
   "cell_type": "markdown",
   "metadata": {
    "colab_type": "text",
    "id": "-b1hTz3VWZjw"
   },
   "source": [
    "---\n",
    "Part 2\n",
    "---------\n",
    "\n",
    "Try to get the best performance you can using a multi-layer model! The best reported test accuracy using a deep network is [97.1%](http://yaroslavvb.blogspot.com/2011/09/notmnist-dataset.html?showComment=1391023266211#c8758720086795711595).\n",
    " \n",
    " ---\n"
   ]
  },
  {
   "cell_type": "code",
   "execution_count": 65,
   "metadata": {
    "collapsed": false
   },
   "outputs": [],
   "source": [
    "# Some constants used throughout the model\n",
    "batch_size = 128\n",
    "h1_nodes = 1024\n",
    "h2_nodes = 512\n",
    "h3_nodes = 256\n",
    "h4_nodes = 128\n",
    "bias_init = 0.001\n",
    "init_learning_rate = 0.5\n",
    "decay_rate = 0.8\n",
    "beta = 0.001\n",
    "momentum = 0.1\n",
    "\n",
    "graph = tf.Graph()\n",
    "with graph.as_default():\n",
    "\n",
    "    # Input data. For the training data, we use a placeholder that will be fed\n",
    "    # at run time with a training minibatch\n",
    "    tf_train_dataset = tf.placeholder(tf.float32,\n",
    "                                      shape=(batch_size, image_size * image_size))\n",
    "    tf_train_labels = tf.placeholder(tf.float32, shape=(batch_size, num_labels))\n",
    "    tf_valid_dataset = tf.constant(valid_dataset)\n",
    "    tf_test_dataset = tf.constant(test_dataset)\n",
    "    \n",
    "    global_step = tf.Variable(0)\n",
    "\n",
    "    # Variables initialization using Glorot weight initialization\n",
    "    # Hidden Layer\n",
    "    weights_h1 = tf.Variable(tf.truncated_normal([image_size*image_size, h1_nodes],\n",
    "                                               stddev=np.sqrt(2.0 / (image_size*image_size))))\n",
    "    weights_h2 = tf.Variable(tf.truncated_normal([h1_nodes, h2_nodes], \n",
    "                                               stddev=np.sqrt(2.0 / h1_nodes)))\n",
    "    weights_h3 = tf.Variable(tf.truncated_normal([h2_nodes, h3_nodes], \n",
    "                                               stddev=np.sqrt(2.0 / h2_nodes)))\n",
    "    weights_h4 = tf.Variable(tf.truncated_normal([h3_nodes, h4_nodes], \n",
    "                                               stddev=np.sqrt(2.0 / h3_nodes)))    \n",
    "    biases_h1 = tf.Variable(tf.constant(bias_init, shape=[h1_nodes]))\n",
    "    biases_h2 = tf.Variable(tf.constant(bias_init, shape=[h2_nodes]))\n",
    "    biases_h3 = tf.Variable(tf.constant(bias_init, shape=[h3_nodes]))\n",
    "    biases_h4 = tf.Variable(tf.constant(bias_init, shape=[h4_nodes]))\n",
    "    # Linear Layer\n",
    "    weights_linear = tf.Variable(tf.truncated_normal([h4_nodes, num_labels], \n",
    "                                               stddev=np.sqrt(2.0 / h4_nodes)))\n",
    "    biases_linear = tf.Variable(tf.constant(bias_init, shape=[num_labels]))\n",
    "    \n",
    "    \n",
    "    # Adding dropout to hiden layer\n",
    "    keep_prob = tf.placeholder(tf.float32)\n",
    "\n",
    "    # Training computation with drop out on the two first layers\n",
    "    hidden_out_1 = tf.nn.relu(tf.matmul(tf_train_dataset, weights_h1) + biases_h1)\n",
    "    hidden_drop_1 = tf.nn.dropout(hidden_out_1, keep_prob)\n",
    "    hidden_out_2 = tf.nn.relu(tf.matmul(hidden_drop_1, weights_h2) + biases_h2)\n",
    "    hidden_drop_2 = tf.nn.dropout(hidden_out_2, keep_prob)\n",
    "    hidden_out_3 = tf.nn.relu(tf.matmul(hidden_drop_2, weights_h3) + biases_h3)\n",
    "    hidden_drop_3 = tf.nn.dropout(hidden_out_3, keep_prob)\n",
    "    hidden_out_4 = tf.nn.relu(tf.matmul(hidden_drop_3, weights_h4) + biases_h4)\n",
    "    hidden_drop_4 = tf.nn.dropout(hidden_out_4, keep_prob)\n",
    "    linear = tf.matmul(hidden_drop_4, weights_linear) + biases_linear\n",
    "    loss = tf.reduce_mean(tf.nn.softmax_cross_entropy_with_logits(linear, tf_train_labels))\n",
    "    \n",
    "    # L2 regularization \n",
    "    loss_reg = loss + beta*(\n",
    "        tf.nn.l2_loss(weights_h1) + tf.nn.l2_loss(weights_h2) + tf.nn.l2_loss(weights_h3) +\n",
    "        tf.nn.l2_loss(weights_h4) + tf.nn.l2_loss(weights_linear))\n",
    "\n",
    "    # Learning Rate and Optimizer (using Nesterov momentum)\n",
    "    learning_rate = tf.train.exponential_decay(init_learning_rate, global_step, \n",
    "                                               1000, decay_rate, staircase=True)\n",
    "    optimizer = tf.train.MomentumOptimizer(learning_rate = learning_rate, \n",
    "                                           use_nesterov = True, \n",
    "                                           momentum = momentum).minimize(loss_reg, global_step)\n",
    "\n",
    "    # Predictions for the training\n",
    "    train_prediction = tf.nn.softmax(linear)\n",
    "    \n",
    "    # Predictions for validation data   \n",
    "    hidden_out_1_valid = tf.nn.relu(tf.matmul(tf_valid_dataset, weights_h1) + biases_h1)\n",
    "    hidden_out_2_valid = tf.nn.relu(tf.matmul(hidden_out_1_valid, weights_h2) + biases_h2)\n",
    "    hidden_out_3_valid = tf.nn.relu(tf.matmul(hidden_out_2_valid, weights_h3) + biases_h3)\n",
    "    hidden_out_4_valid = tf.nn.relu(tf.matmul(hidden_out_3_valid, weights_h4) + biases_h4)\n",
    "    linear_valid = tf.matmul(hidden_out_4_valid, weights_linear) + biases_linear\n",
    "    valid_prediction = tf.nn.softmax(linear_valid)\n",
    "    \n",
    "    # Predictions for test data\n",
    "    hidden_out_1_test = tf.nn.relu(tf.matmul(tf_test_dataset, weights_h1) + biases_h1)\n",
    "    hidden_out_2_test = tf.nn.relu(tf.matmul(hidden_out_1_test, weights_h2) + biases_h2)\n",
    "    hidden_out_3_test = tf.nn.relu(tf.matmul(hidden_out_2_test, weights_h3) + biases_h3)\n",
    "    hidden_out_4_test = tf.nn.relu(tf.matmul(hidden_out_3_test, weights_h4) + biases_h4)\n",
    "    linear_test = tf.matmul(hidden_out_4_test, weights_linear) + biases_linear\n",
    "    test_prediction = tf.nn.softmax(linear_test)"
   ]
  },
  {
   "cell_type": "code",
   "execution_count": 67,
   "metadata": {
    "collapsed": false,
    "scrolled": false
   },
   "outputs": [
    {
     "name": "stdout",
     "output_type": "stream",
     "text": [
      "Initialized\n",
      "Minibatch loss at step 0: 3.272139\n",
      "Minibatch accuracy: 10.2%\n",
      "Validation accuracy: 12.8%\n",
      "Test accuracy: 13.4%\n",
      "Minibatch loss at step 250: 0.680989\n",
      "Minibatch accuracy: 83.6%\n",
      "Validation accuracy: 82.0%\n",
      "Test accuracy: 89.1%\n",
      "Minibatch loss at step 500: 0.478473\n",
      "Minibatch accuracy: 86.7%\n",
      "Validation accuracy: 83.9%\n",
      "Test accuracy: 90.6%\n",
      "Minibatch loss at step 750: 0.627182\n",
      "Minibatch accuracy: 82.8%\n",
      "Validation accuracy: 83.6%\n",
      "Test accuracy: 90.3%\n",
      "Minibatch loss at step 1000: 0.669082\n",
      "Minibatch accuracy: 81.2%\n",
      "Validation accuracy: 84.3%\n",
      "Test accuracy: 91.0%\n",
      "Minibatch loss at step 1500: 0.525709\n",
      "Minibatch accuracy: 85.2%\n",
      "Validation accuracy: 85.0%\n",
      "Test accuracy: 91.7%\n",
      "Minibatch loss at step 2000: 0.404569\n",
      "Minibatch accuracy: 91.4%\n",
      "Validation accuracy: 85.6%\n",
      "Test accuracy: 92.4%\n",
      "Minibatch loss at step 3000: 0.540352\n",
      "Minibatch accuracy: 85.2%\n",
      "Validation accuracy: 86.0%\n",
      "Test accuracy: 92.6%\n",
      "Minibatch loss at step 4000: 0.458665\n",
      "Minibatch accuracy: 87.5%\n",
      "Validation accuracy: 86.7%\n",
      "Test accuracy: 93.2%\n",
      "Minibatch loss at step 5000: 0.497404\n",
      "Minibatch accuracy: 85.2%\n",
      "Validation accuracy: 87.1%\n",
      "Test accuracy: 93.2%\n",
      "Minibatch loss at step 6000: 0.500291\n",
      "Minibatch accuracy: 83.6%\n",
      "Validation accuracy: 87.0%\n",
      "Test accuracy: 93.4%\n",
      "Minibatch loss at step 7000: 0.475169\n",
      "Minibatch accuracy: 85.9%\n",
      "Validation accuracy: 88.0%\n",
      "Test accuracy: 94.0%\n",
      "Minibatch loss at step 8000: 0.624332\n",
      "Minibatch accuracy: 80.5%\n",
      "Validation accuracy: 87.2%\n",
      "Test accuracy: 93.4%\n",
      "Minibatch loss at step 9000: 0.510583\n",
      "Minibatch accuracy: 84.4%\n",
      "Validation accuracy: 88.0%\n",
      "Test accuracy: 94.3%\n",
      "Minibatch loss at step 10000: 0.446264\n",
      "Minibatch accuracy: 85.9%\n",
      "Validation accuracy: 88.5%\n",
      "Test accuracy: 94.6%\n",
      "Minibatch loss at step 11000: 0.418175\n",
      "Minibatch accuracy: 89.8%\n",
      "Validation accuracy: 88.5%\n",
      "Test accuracy: 94.6%\n",
      "Minibatch loss at step 12000: 0.538398\n",
      "Minibatch accuracy: 82.8%\n",
      "Validation accuracy: 88.4%\n",
      "Test accuracy: 94.3%\n",
      "Minibatch loss at step 13000: 0.515245\n",
      "Minibatch accuracy: 84.4%\n",
      "Validation accuracy: 88.5%\n",
      "Test accuracy: 94.3%\n",
      "Minibatch loss at step 14000: 0.461635\n",
      "Minibatch accuracy: 86.7%\n",
      "Validation accuracy: 88.8%\n",
      "Test accuracy: 94.8%\n",
      "Minibatch loss at step 15000: 0.374217\n",
      "Minibatch accuracy: 87.5%\n",
      "Validation accuracy: 88.9%\n",
      "Test accuracy: 95.0%\n",
      "Minibatch loss at step 16000: 0.322259\n",
      "Minibatch accuracy: 90.6%\n",
      "Validation accuracy: 89.3%\n",
      "Test accuracy: 95.2%\n",
      "Minibatch loss at step 17000: 0.332457\n",
      "Minibatch accuracy: 92.2%\n",
      "Validation accuracy: 89.2%\n",
      "Test accuracy: 95.0%\n",
      "Minibatch loss at step 18000: 0.310178\n",
      "Minibatch accuracy: 90.6%\n",
      "Validation accuracy: 89.7%\n",
      "Test accuracy: 95.2%\n",
      "Minibatch loss at step 19000: 0.253702\n",
      "Minibatch accuracy: 93.0%\n",
      "Validation accuracy: 90.0%\n",
      "Test accuracy: 95.3%\n",
      "Minibatch loss at step 20000: 0.473957\n",
      "Minibatch accuracy: 86.7%\n",
      "Validation accuracy: 89.9%\n",
      "Test accuracy: 95.4%\n",
      "Minibatch loss at step 21000: 0.322099\n",
      "Minibatch accuracy: 89.8%\n",
      "Validation accuracy: 90.0%\n",
      "Test accuracy: 95.6%\n",
      "Minibatch loss at step 22000: 0.217889\n",
      "Minibatch accuracy: 94.5%\n",
      "Validation accuracy: 89.9%\n",
      "Test accuracy: 95.5%\n",
      "Minibatch loss at step 23000: 0.323295\n",
      "Minibatch accuracy: 91.4%\n",
      "Validation accuracy: 90.0%\n",
      "Test accuracy: 95.5%\n",
      "Minibatch loss at step 24000: 0.328562\n",
      "Minibatch accuracy: 87.5%\n",
      "Validation accuracy: 90.3%\n",
      "Test accuracy: 95.7%\n",
      "Minibatch loss at step 25000: 0.260567\n",
      "Minibatch accuracy: 91.4%\n",
      "Validation accuracy: 90.2%\n",
      "Test accuracy: 95.7%\n",
      "Minibatch loss at step 26000: 0.333219\n",
      "Minibatch accuracy: 90.6%\n",
      "Validation accuracy: 90.3%\n",
      "Test accuracy: 95.8%\n",
      "Minibatch loss at step 27000: 0.364083\n",
      "Minibatch accuracy: 86.7%\n",
      "Validation accuracy: 90.5%\n",
      "Test accuracy: 95.8%\n",
      "Minibatch loss at step 28000: 0.344548\n",
      "Minibatch accuracy: 90.6%\n",
      "Validation accuracy: 90.4%\n",
      "Test accuracy: 95.7%\n",
      "Minibatch loss at step 29000: 0.439605\n",
      "Minibatch accuracy: 88.3%\n",
      "Validation accuracy: 90.4%\n",
      "Test accuracy: 95.8%\n",
      "Minibatch loss at step 30000: 0.155572\n",
      "Minibatch accuracy: 95.3%\n",
      "Validation accuracy: 90.6%\n",
      "Test accuracy: 96.0%\n",
      "Minibatch loss at step 31000: 0.358888\n",
      "Minibatch accuracy: 89.1%\n",
      "Validation accuracy: 90.5%\n",
      "Test accuracy: 95.9%\n",
      "Minibatch loss at step 32000: 0.294494\n",
      "Minibatch accuracy: 89.8%\n",
      "Validation accuracy: 90.6%\n",
      "Test accuracy: 96.1%\n",
      "Minibatch loss at step 33000: 0.313894\n",
      "Minibatch accuracy: 90.6%\n",
      "Validation accuracy: 90.8%\n",
      "Test accuracy: 96.1%\n",
      "Minibatch loss at step 34000: 0.468609\n",
      "Minibatch accuracy: 84.4%\n",
      "Validation accuracy: 90.7%\n",
      "Test accuracy: 96.0%\n",
      "Minibatch loss at step 35000: 0.158281\n",
      "Minibatch accuracy: 96.1%\n",
      "Validation accuracy: 90.7%\n",
      "Test accuracy: 96.0%\n",
      "Minibatch loss at step 36000: 0.294114\n",
      "Minibatch accuracy: 92.2%\n",
      "Validation accuracy: 90.8%\n",
      "Test accuracy: 96.2%\n",
      "Minibatch loss at step 37000: 0.443531\n",
      "Minibatch accuracy: 86.7%\n",
      "Validation accuracy: 90.8%\n",
      "Test accuracy: 96.1%\n",
      "Minibatch loss at step 38000: 0.364400\n",
      "Minibatch accuracy: 91.4%\n",
      "Validation accuracy: 90.8%\n",
      "Test accuracy: 96.1%\n",
      "Minibatch loss at step 39000: 0.384611\n",
      "Minibatch accuracy: 86.7%\n",
      "Validation accuracy: 90.9%\n",
      "Test accuracy: 96.2%\n",
      "Minibatch loss at step 40000: 0.313796\n",
      "Minibatch accuracy: 89.8%\n",
      "Validation accuracy: 90.9%\n",
      "Test accuracy: 96.2%\n"
     ]
    }
   ],
   "source": [
    "num_steps = 40001\n",
    "step = 0\n",
    "prob = 0.5\n",
    "\n",
    "with tf.Session(graph=graph) as session:\n",
    "    tf.initialize_all_variables().run()\n",
    "    print(\"Initialized\")\n",
    "    for step in range(num_steps):\n",
    "        # Pick an offset within the training data, which has been randomized.\n",
    "        # Note: we could use better randomization across epochs.\n",
    "        offset = (step * batch_size) % (train_labels.shape[0] - batch_size)\n",
    "        # Generate a minibatch.\n",
    "        batch_data = train_dataset[offset:(offset + batch_size), :]\n",
    "        batch_labels = train_labels[offset:(offset + batch_size), :]\n",
    "        # Prepare a dictionary telling the session where to feed the minibatch.\n",
    "        # The key of the dictionary is the placeholder node of the graph to be fed,\n",
    "        # and the value is the numpy array to feed to it.\n",
    "        feed_dict = {tf_train_dataset : batch_data, tf_train_labels : batch_labels, keep_prob : prob}\n",
    "        _, l, predictions = session.run([optimizer, loss, train_prediction], feed_dict=feed_dict)\n",
    "    \n",
    "        if (step in [250, 500, 750, 1500] or step % 1000 == 0):\n",
    "            print(\"Minibatch loss at step %d: %f\" % (step, l))\n",
    "            print(\"Minibatch accuracy: %.1f%%\" % accuracy(predictions, batch_labels))\n",
    "            print(\"Validation accuracy: %.1f%%\" % accuracy(\n",
    "                valid_prediction.eval(), valid_labels))\n",
    "            print(\"Test accuracy: %.1f%%\" % accuracy(test_prediction.eval(), test_labels))"
   ]
  },
  {
   "cell_type": "markdown",
   "metadata": {
    "collapsed": true
   },
   "source": [
    "After step 40,000, we have an accuracy of 96.2%. I suspect that the model can continue to improve if we ran it for longer."
   ]
  }
 ],
 "metadata": {
  "colab": {
   "default_view": {},
   "name": "3_regularization.ipynb",
   "provenance": [],
   "version": "0.3.2",
   "views": {}
  },
  "kernelspec": {
   "display_name": "Python 2",
   "language": "python",
   "name": "python2"
  },
  "language_info": {
   "codemirror_mode": {
    "name": "ipython",
    "version": 2
   },
   "file_extension": ".py",
   "mimetype": "text/x-python",
   "name": "python",
   "nbconvert_exporter": "python",
   "pygments_lexer": "ipython2",
   "version": "2.7.11"
  }
 },
 "nbformat": 4,
 "nbformat_minor": 0
}
